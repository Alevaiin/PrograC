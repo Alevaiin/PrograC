{
  "nbformat": 4,
  "nbformat_minor": 0,
  "metadata": {
    "colab": {
      "provenance": []
    },
    "kernelspec": {
      "name": "python3",
      "display_name": "Python 3"
    },
    "language_info": {
      "name": "python"
    }
  },
  "cells": [
    {
      "cell_type": "code",
      "source": [
        "%%writefile ChildProcess.java\n",
        "import java.io.IOException;\n",
        "\n",
        "public class ChildProcess {\n",
        "\n",
        "    public ChildProcess(String[] childNames){\n",
        "        this.childNames = childNames;\n",
        "    }\n",
        "    String[] childNames;\n",
        "    Process[] childs;\n",
        "\n",
        "    private ProcessBuilder buildProcess(String name){\n",
        "        ProcessBuilder pb = new ProcessBuilder(\"java\", name);\n",
        "        pb.inheritIO();\n",
        "        pb.redirectErrorStream(true);\n",
        "        return pb;\n",
        "    }\n",
        "\n",
        "    private Process startProcess(ProcessBuilder processBuilder) {\n",
        "        Process child = null;\n",
        "        try{\n",
        "            child = processBuilder.start();\n",
        "        }catch (IOException ioException){\n",
        "            System.out.println(\"Error: \" + ioException.getMessage());\n",
        "        }\n",
        "        return child;\n",
        "    }\n",
        "\n",
        "    public void startChilds(){\n",
        "        this.childs = new Process[ childNames.length ];\n",
        "        for (int i = 0; i < childNames.length ; i++) {\n",
        "          childs[i] = startProcess(buildProcess(childNames[i]));\n",
        "        }\n",
        "    }\n",
        "\n",
        "    public void waitForChilds(){\n",
        "        if(this.childs == null)\n",
        "          return;\n",
        "        try{\n",
        "          for (Process child : childs) {\n",
        "            child.waitFor();\n",
        "          }\n",
        "        }catch (InterruptedException e){\n",
        "          System.out.println(\"Error: \" + e.getMessage());\n",
        "        }\n",
        "    }\n",
        "\n",
        "}\n"
      ],
      "metadata": {
        "colab": {
          "base_uri": "https://localhost:8080/"
        },
        "id": "V6Tw8-jfDMwe",
        "outputId": "2f7c2791-0cab-4b12-e06c-0bdf47283d44"
      },
      "execution_count": 361,
      "outputs": [
        {
          "output_type": "stream",
          "name": "stdout",
          "text": [
            "Overwriting ChildProcess.java\n"
          ]
        }
      ]
    },
    {
      "cell_type": "code",
      "execution_count": 362,
      "metadata": {
        "colab": {
          "base_uri": "https://localhost:8080/"
        },
        "id": "mL2gt2a2CA5T",
        "outputId": "7692d28d-2ea4-46d1-90ca-c28d2b11490f"
      },
      "outputs": [
        {
          "output_type": "stream",
          "name": "stdout",
          "text": [
            "Overwriting ProcessA.java\n"
          ]
        }
      ],
      "source": [
        "%%writefile ProcessA.java\n",
        "public class ProcessA {\n",
        "\n",
        "    static String[] childNames = {\"ProcessB.java\"};\n",
        "\n",
        "    public static void main(String[] args) {\n",
        "        System.out.println(\"Proceso A\");\n",
        "        ChildProcess childProcess = new ChildProcess(childNames);\n",
        "        childProcess.startChilds();\n",
        "        childProcess.waitForChilds();\n",
        "    }\n",
        "}"
      ]
    },
    {
      "cell_type": "code",
      "source": [
        "%%writefile ProcessB.java\n",
        "public class ProcessB {\n",
        "    static String[] childNames = {\"ProcessC.java\",\"ProcessD.java\"};\n",
        "\n",
        "    public static void main(String[] args) {\n",
        "        System.out.println(\"Proceso B\");\n",
        "        ChildProcess childProcess = new ChildProcess(childNames);\n",
        "        childProcess.startChilds();\n",
        "        childProcess.waitForChilds();\n",
        "    }\n",
        "}\n"
      ],
      "metadata": {
        "colab": {
          "base_uri": "https://localhost:8080/"
        },
        "id": "KuKpoTGMCP-a",
        "outputId": "7c40078b-f538-47de-9cde-fae0c5b4d765"
      },
      "execution_count": 363,
      "outputs": [
        {
          "output_type": "stream",
          "name": "stdout",
          "text": [
            "Overwriting ProcessB.java\n"
          ]
        }
      ]
    },
    {
      "cell_type": "code",
      "source": [
        "%%writefile ProcessC.java\n",
        "public class ProcessC {\n",
        "    static String[] childNames = {\"ProcessE.java\"};\n",
        "\n",
        "    public static void main(String[] args) {\n",
        "        System.out.println(\"Proceso C\");\n",
        "        ChildProcess childProcess = new ChildProcess(childNames);\n",
        "        childProcess.startChilds();\n",
        "        childProcess.waitForChilds();\n",
        "    }\n",
        "}\n"
      ],
      "metadata": {
        "colab": {
          "base_uri": "https://localhost:8080/"
        },
        "id": "rYQqZo4HCbP3",
        "outputId": "cdf2d072-c19b-487c-8498-2e075eea00a7"
      },
      "execution_count": 364,
      "outputs": [
        {
          "output_type": "stream",
          "name": "stdout",
          "text": [
            "Overwriting ProcessC.java\n"
          ]
        }
      ]
    },
    {
      "cell_type": "code",
      "source": [
        "%%writefile ProcessD.java\n",
        "public class ProcessD {\n",
        "    static String[] childNames = {\"ProcessF.java\",\"ProcessG.java\"};\n",
        "\n",
        "    public static void main(String[] args) {\n",
        "        System.out.println(\"Proceso D\");\n",
        "        ChildProcess childProcess = new ChildProcess(childNames);\n",
        "        childProcess.startChilds();\n",
        "        childProcess.waitForChilds();\n",
        "    }\n",
        "}\n"
      ],
      "metadata": {
        "colab": {
          "base_uri": "https://localhost:8080/"
        },
        "id": "qhAq8NUqCgCJ",
        "outputId": "906ea308-1516-4b89-ede5-a973783a359e"
      },
      "execution_count": 365,
      "outputs": [
        {
          "output_type": "stream",
          "name": "stdout",
          "text": [
            "Overwriting ProcessD.java\n"
          ]
        }
      ]
    },
    {
      "cell_type": "code",
      "source": [
        "%%writefile ProcessE.java\n",
        "public class ProcessE {\n",
        "    static String[] childNames = {\"ProcessH.java\",\"ProcessI.java\"};\n",
        "\n",
        "    public static void main(String[] args) {\n",
        "        System.out.println(\"Proceso E\");\n",
        "        ChildProcess childProcess = new ChildProcess(childNames);\n",
        "        childProcess.startChilds();\n",
        "        childProcess.waitForChilds();\n",
        "    }\n",
        "}\n"
      ],
      "metadata": {
        "colab": {
          "base_uri": "https://localhost:8080/"
        },
        "id": "EuOxsmDbCoES",
        "outputId": "abaa756b-ec62-4eb9-ecde-e0e653bfe1b0"
      },
      "execution_count": 366,
      "outputs": [
        {
          "output_type": "stream",
          "name": "stdout",
          "text": [
            "Overwriting ProcessE.java\n"
          ]
        }
      ]
    },
    {
      "cell_type": "code",
      "source": [
        "%%writefile ProcessF.java\n",
        "public class ProcessF {\n",
        "\n",
        "    public static void main(String[] args) throws InterruptedException {\n",
        "        System.out.println(\"Proceso F\");\n",
        "        Thread.sleep(10000);\n",
        "    }\n",
        "}\n"
      ],
      "metadata": {
        "colab": {
          "base_uri": "https://localhost:8080/"
        },
        "id": "SBf9tc6RCtBc",
        "outputId": "ca3543cd-c8f1-494b-c3d2-ed23a8c3b263"
      },
      "execution_count": 367,
      "outputs": [
        {
          "output_type": "stream",
          "name": "stdout",
          "text": [
            "Overwriting ProcessF.java\n"
          ]
        }
      ]
    },
    {
      "cell_type": "code",
      "source": [
        "%%writefile ProcessG.java\n",
        "public class ProcessG {\n",
        "    public static void main(String[] args) throws InterruptedException {\n",
        "        System.out.println(\"Proceso G\");\n",
        "        Thread.sleep(10000);\n",
        "    }\n",
        "}\n"
      ],
      "metadata": {
        "colab": {
          "base_uri": "https://localhost:8080/"
        },
        "id": "K2-hfNaRC1us",
        "outputId": "35e9e6e8-7eca-4512-86bc-a63eed6750a6"
      },
      "execution_count": 368,
      "outputs": [
        {
          "output_type": "stream",
          "name": "stdout",
          "text": [
            "Overwriting ProcessG.java\n"
          ]
        }
      ]
    },
    {
      "cell_type": "code",
      "source": [
        "%%writefile ProcessH.java\n",
        "public class ProcessH {\n",
        "\n",
        "    public static void main(String[] args) throws InterruptedException {\n",
        "        System.out.println(\"Proceso H\");\n",
        "        Thread.sleep(10000);\n",
        "    }\n",
        "}\n"
      ],
      "metadata": {
        "colab": {
          "base_uri": "https://localhost:8080/"
        },
        "id": "rKYEw6CuC5Yt",
        "outputId": "a38bf0d3-e03d-40a8-9408-43878c04734b"
      },
      "execution_count": 369,
      "outputs": [
        {
          "output_type": "stream",
          "name": "stdout",
          "text": [
            "Overwriting ProcessH.java\n"
          ]
        }
      ]
    },
    {
      "cell_type": "code",
      "source": [
        "%%writefile ProcessI.java\n",
        "public class ProcessI {\n",
        "\n",
        "    public static void main(String[] args) throws InterruptedException {\n",
        "        System.out.println(\"Proceso I\");\n",
        "        Thread.sleep(10000);\n",
        "    }\n",
        "}\n"
      ],
      "metadata": {
        "colab": {
          "base_uri": "https://localhost:8080/"
        },
        "id": "WUWfjjbJDEe8",
        "outputId": "0dd19dec-55aa-4e11-c8b6-825686307a8e"
      },
      "execution_count": 370,
      "outputs": [
        {
          "output_type": "stream",
          "name": "stdout",
          "text": [
            "Overwriting ProcessI.java\n"
          ]
        }
      ]
    },
    {
      "cell_type": "code",
      "source": [
        "!javac ChildProcess.java"
      ],
      "metadata": {
        "id": "wypMwzg3KsEB"
      },
      "execution_count": 371,
      "outputs": []
    },
    {
      "cell_type": "code",
      "source": [
        "!ls"
      ],
      "metadata": {
        "colab": {
          "base_uri": "https://localhost:8080/"
        },
        "id": "ud5ERQ-rLLx3",
        "outputId": "1e0c5588-2aac-4f10-fdcf-7561c97c0a02"
      },
      "execution_count": 372,
      "outputs": [
        {
          "output_type": "stream",
          "name": "stdout",
          "text": [
            "ChildProcess.class  ProcessB.java  ProcessE.java  ProcessH.java  sample_data\n",
            "ChildProcess.java   ProcessC.java  ProcessF.java  ProcessI.java\n",
            "ProcessA.java\t    ProcessD.java  ProcessG.java  salidaJava\n"
          ]
        }
      ]
    },
    {
      "cell_type": "code",
      "source": [
        "!nohup java ProcessA.java 1>salidaJava 2>/dev/null &"
      ],
      "metadata": {
        "id": "da7N9pZcLPUT"
      },
      "execution_count": 386,
      "outputs": []
    },
    {
      "cell_type": "code",
      "source": [
        "!ps -ef"
      ],
      "metadata": {
        "colab": {
          "base_uri": "https://localhost:8080/"
        },
        "id": "9YpfJGQ3OEzP",
        "outputId": "50058874-9882-400a-ac46-922cfdd4a921"
      },
      "execution_count": 374,
      "outputs": [
        {
          "output_type": "stream",
          "name": "stdout",
          "text": [
            "UID          PID    PPID  C STIME TTY          TIME CMD\n",
            "root           1       0  0 Apr24 ?        00:00:00 /sbin/docker-init -- /datala\n",
            "root           7       1  0 Apr24 ?        00:00:06 /tools/node/bin/node /datala\n",
            "root           9       7  0 Apr24 ?        00:00:01 /bin/bash -e /usr/local/cola\n",
            "root          11       1  0 Apr24 ?        00:00:00 /bin/bash -e /datalab/run.sh\n",
            "root          12      11  0 Apr24 ?        00:00:01 /usr/colab/bin/kernel_manage\n",
            "root          41       0  0 Apr24 ?        00:00:00 tail -n +0 -F /root/.config/\n",
            "root          47       0  0 Apr24 ?        00:00:00 tail -n +0 -F /root/.config/\n",
            "root          65       7  0 Apr24 ?        00:00:19 [python3] <defunct>\n",
            "root          66       7  0 Apr24 ?        00:00:00 python3 /usr/local/bin/colab\n",
            "root          87       7  0 Apr24 ?        00:00:09 /usr/bin/python3 /usr/local/\n",
            "root          88       7  0 Apr24 ?        00:00:02 /usr/local/bin/dap_multiplex\n",
            "root        1074      87  0 Apr24 ?        00:00:18 /usr/bin/python3 -m colab_ke\n",
            "root        1107       1  0 Apr24 ?        00:00:05 /usr/bin/python3 /usr/local/\n",
            "root        1108       7  0 Apr24 ?        00:00:01 /usr/colab/bin/language_serv\n",
            "root        1119    1108  0 Apr24 ?        00:00:15 node /datalab/web/pyright/py\n",
            "root       11617       9  0 00:21 ?        00:00:00 sleep 1\n",
            "root       11619       1  0 00:21 ?        00:00:00 java ProcessA.java\n",
            "root       11635    1074  0 00:21 ?        00:00:00 ps -ef\n"
          ]
        }
      ]
    },
    {
      "cell_type": "code",
      "source": [
        "!pstree -pcT $(pgrep -f \"ProcessA.java\" | head -n 1)"
      ],
      "metadata": {
        "colab": {
          "base_uri": "https://localhost:8080/"
        },
        "id": "FIJU4CvsPBLV",
        "outputId": "3855cd54-8565-4223-8b8d-7bc864e20f4c"
      },
      "execution_count": 394,
      "outputs": [
        {
          "output_type": "stream",
          "name": "stdout",
          "text": [
            "java(12310)───java(12333)─┬─java(12353)───java(12415)─┬─java(12486)\n",
            "                          │                           └─java(12489)\n",
            "                          └─java(12359)─┬─java(12403)\n",
            "                                        └─java(12406)\n"
          ]
        }
      ]
    },
    {
      "cell_type": "code",
      "source": [
        "!cat salidaJava"
      ],
      "metadata": {
        "id": "uYzffts3P6Ms"
      },
      "execution_count": 376,
      "outputs": []
    }
  ]
}