{
  "nbformat": 4,
  "nbformat_minor": 0,
  "metadata": {
    "colab": {
      "provenance": []
    },
    "kernelspec": {
      "name": "python3",
      "display_name": "Python 3"
    },
    "language_info": {
      "name": "python"
    }
  },
  "cells": [
    {
      "cell_type": "code",
      "execution_count": 46,
      "metadata": {
        "id": "HSALuiZ6BXZ9"
      },
      "outputs": [],
      "source": [
        "!mkdir -p monitor/cameras/rooms"
      ]
    },
    {
      "cell_type": "code",
      "source": [
        "!mkdir -p monitor/cameras/zones"
      ],
      "metadata": {
        "id": "8I3Veq1uDQGR"
      },
      "execution_count": 47,
      "outputs": []
    },
    {
      "cell_type": "code",
      "source": [
        "!mkdir -p monitor/events"
      ],
      "metadata": {
        "id": "I8yHgZZ2DUg1"
      },
      "execution_count": 48,
      "outputs": []
    },
    {
      "cell_type": "code",
      "source": [
        "%%writefile monitor/cameras/rooms/AtticCamera.java\n",
        "package monitor.cameras.rooms;\n",
        "\n",
        "import monitor.cameras.Camera;\n",
        "import monitor.cameras.zones.Attic;\n",
        "import monitor.cameras.zones.Zone;\n",
        "\n",
        "public class AtticCamera {\n",
        "    public static void main(String[] args) {\n",
        "        Zone attic = new Attic();\n",
        "        Camera camera = new Camera(attic, Integer.parseInt(args[0]), Integer.parseInt(args[1]));\n",
        "        camera.startMonitoring();\n",
        "        camera.printEvents();\n",
        "    }\n",
        "}\n"
      ],
      "metadata": {
        "colab": {
          "base_uri": "https://localhost:8080/"
        },
        "id": "TZ4OSuTBDbx4",
        "outputId": "d21e99b2-a8c8-4841-e1e1-1a4c05af2e49"
      },
      "execution_count": 49,
      "outputs": [
        {
          "output_type": "stream",
          "name": "stdout",
          "text": [
            "Overwriting monitor/cameras/rooms/AtticCamera.java\n"
          ]
        }
      ]
    },
    {
      "cell_type": "code",
      "source": [
        "%%writefile monitor/cameras/rooms/BasementCamera.java\n",
        "package monitor.cameras.rooms;\n",
        "\n",
        "import monitor.cameras.Camera;\n",
        "import monitor.cameras.zones.Basement;\n",
        "import monitor.cameras.zones.Zone;\n",
        "\n",
        "public class BasementCamera {\n",
        "    public static void main(String[] args) {\n",
        "        Zone basement = new Basement();\n",
        "        Camera camera = new Camera(basement, Integer.parseInt(args[0]), Integer.parseInt(args[1]));\n",
        "        camera.startMonitoring();\n",
        "        camera.printEvents();\n",
        "    }\n",
        "}\n"
      ],
      "metadata": {
        "colab": {
          "base_uri": "https://localhost:8080/"
        },
        "id": "7OH988n8Dqey",
        "outputId": "2d2ac90c-bc11-4d4c-cc11-1801e4e7449e"
      },
      "execution_count": 50,
      "outputs": [
        {
          "output_type": "stream",
          "name": "stdout",
          "text": [
            "Overwriting monitor/cameras/rooms/BasementCamera.java\n"
          ]
        }
      ]
    },
    {
      "cell_type": "code",
      "source": [
        "%%writefile monitor/cameras/rooms/BedroomCamera.java\n",
        "package monitor.cameras.rooms;\n",
        "\n",
        "import monitor.cameras.Camera;\n",
        "import monitor.cameras.zones.Bedroom;\n",
        "import monitor.cameras.zones.Zone;\n",
        "\n",
        "public class BedroomCamera {\n",
        "    public static void main(String[] args) {\n",
        "        Zone bedroom = new Bedroom();\n",
        "        Camera camera = new Camera(bedroom, Integer.parseInt(args[0]), Integer.parseInt(args[1]));\n",
        "        camera.startMonitoring();\n",
        "        camera.printEvents();\n",
        "    }\n",
        "}\n"
      ],
      "metadata": {
        "colab": {
          "base_uri": "https://localhost:8080/"
        },
        "id": "wGe6tC5UDvg9",
        "outputId": "fe58289a-6615-44fd-9d73-c05ce993a158"
      },
      "execution_count": 51,
      "outputs": [
        {
          "output_type": "stream",
          "name": "stdout",
          "text": [
            "Overwriting monitor/cameras/rooms/BedroomCamera.java\n"
          ]
        }
      ]
    },
    {
      "cell_type": "code",
      "source": [
        "%%writefile monitor/cameras/rooms/GardenCamera.java\n",
        "package monitor.cameras.rooms;\n",
        "\n",
        "import monitor.cameras.Camera;\n",
        "import monitor.cameras.zones.Garden;\n",
        "import monitor.cameras.zones.Zone;\n",
        "\n",
        "public class GardenCamera {\n",
        "    public static void main(String[] args) {\n",
        "        Zone garden = new Garden();\n",
        "        Camera camera = new Camera(garden, Integer.parseInt(args[0]), Integer.parseInt(args[1]));\n",
        "        camera.startMonitoring();\n",
        "        camera.printEvents();\n",
        "    }\n",
        "}\n"
      ],
      "metadata": {
        "colab": {
          "base_uri": "https://localhost:8080/"
        },
        "id": "7v5IwYXqDzZa",
        "outputId": "f0c5eb4f-50e1-41f1-cada-ae25900fc6d3"
      },
      "execution_count": 52,
      "outputs": [
        {
          "output_type": "stream",
          "name": "stdout",
          "text": [
            "Overwriting monitor/cameras/rooms/GardenCamera.java\n"
          ]
        }
      ]
    },
    {
      "cell_type": "code",
      "source": [
        "%%writefile monitor/cameras/rooms/KitchenCamera.java\n",
        "package monitor.cameras.rooms;\n",
        "\n",
        "import monitor.cameras.Camera;\n",
        "import monitor.cameras.zones.Kitchen;\n",
        "import monitor.cameras.zones.Zone;\n",
        "\n",
        "public class KitchenCamera {\n",
        "    public static void main(String[] args) {\n",
        "        Zone kitchen = new Kitchen();\n",
        "        Camera camera = new Camera(kitchen, Integer.parseInt(args[0]), Integer.parseInt(args[1]));\n",
        "        camera.startMonitoring();\n",
        "        camera.printEvents();\n",
        "    }\n",
        "}\n"
      ],
      "metadata": {
        "colab": {
          "base_uri": "https://localhost:8080/"
        },
        "id": "MseQe9PsD8Lw",
        "outputId": "bc852519-0b49-407a-c42a-5b513c381a81"
      },
      "execution_count": 53,
      "outputs": [
        {
          "output_type": "stream",
          "name": "stdout",
          "text": [
            "Overwriting monitor/cameras/rooms/KitchenCamera.java\n"
          ]
        }
      ]
    },
    {
      "cell_type": "code",
      "source": [
        "%%writefile monitor/cameras/rooms/MausoleumCamera.java\n",
        "package monitor.cameras.rooms;\n",
        "\n",
        "import monitor.cameras.zones.Mausoleum;\n",
        "import monitor.cameras.zones.Zone;\n",
        "import monitor.cameras.Camera;\n",
        "\n",
        "public class MausoleumCamera {\n",
        "\n",
        "    public static void main(String[] args) {\n",
        "        Zone mausoleum = new Mausoleum();\n",
        "        Camera camera = new Camera(mausoleum, Integer.parseInt(args[0]), Integer.parseInt(args[1]));\n",
        "        camera.startMonitoring();\n",
        "        camera.printEvents();\n",
        "    }\n",
        "}\n"
      ],
      "metadata": {
        "colab": {
          "base_uri": "https://localhost:8080/"
        },
        "id": "qGluTJrBEA8a",
        "outputId": "d4d28915-b10e-4fe5-8156-2160617be88a"
      },
      "execution_count": 54,
      "outputs": [
        {
          "output_type": "stream",
          "name": "stdout",
          "text": [
            "Overwriting monitor/cameras/rooms/MausoleumCamera.java\n"
          ]
        }
      ]
    },
    {
      "cell_type": "code",
      "source": [
        "%%writefile monitor/cameras/zones/Attic.java\n",
        "package monitor.cameras.zones;\n",
        "\n",
        "public class Attic extends Zone{\n",
        "    public Attic() {\n",
        "        //Probabilidades de cada tipo de evento\n",
        "        //{ MOVEMENT_DETECTED, TERMIC_ANOMALY, STRANGE_SHADOW, SOUND_DETECTED}\n",
        "        super(\"Attic\",new int[]{15, 0, 40, 50});\n",
        "    }\n",
        "}\n"
      ],
      "metadata": {
        "colab": {
          "base_uri": "https://localhost:8080/"
        },
        "id": "EU2ml41GEJkH",
        "outputId": "9cba559b-7ba6-49b0-f09b-e21c49a0b8bf"
      },
      "execution_count": 55,
      "outputs": [
        {
          "output_type": "stream",
          "name": "stdout",
          "text": [
            "Overwriting monitor/cameras/zones/Attic.java\n"
          ]
        }
      ]
    },
    {
      "cell_type": "code",
      "source": [
        "%%writefile monitor/cameras/zones/Basement.java\n",
        "package monitor.cameras.zones;\n",
        "\n",
        "public class Basement extends Zone{\n",
        "    public Basement() {\n",
        "        //Probabilidades de cada tipo de evento\n",
        "        //{ MOVEMENT_DETECTED, TERMIC_ANOMALY, STRANGE_SHADOW, SOUND_DETECTED}\n",
        "        super(\"Basement\",new int[]{0, 10, 35, 25});\n",
        "    }\n",
        "}\n"
      ],
      "metadata": {
        "colab": {
          "base_uri": "https://localhost:8080/"
        },
        "id": "54BljgspES0c",
        "outputId": "31e2b8a8-62ea-422b-aca7-97b24ce6ab7d"
      },
      "execution_count": 56,
      "outputs": [
        {
          "output_type": "stream",
          "name": "stdout",
          "text": [
            "Overwriting monitor/cameras/zones/Basement.java\n"
          ]
        }
      ]
    },
    {
      "cell_type": "code",
      "source": [
        "%%writefile monitor/cameras/zones/Bedroom.java\n",
        "package monitor.cameras.zones;\n",
        "\n",
        "public class Bedroom extends Zone{\n",
        "    public Bedroom() {\n",
        "        //Probabilidades de cada tipo de evento\n",
        "        //{ MOVEMENT_DETECTED, TERMIC_ANOMALY, STRANGE_SHADOW, SOUND_DETECTED}\n",
        "        super(\"Bedroom\",new int[]{20, 20, 20, 20});\n",
        "    }\n",
        "}\n"
      ],
      "metadata": {
        "colab": {
          "base_uri": "https://localhost:8080/"
        },
        "id": "mb14Oli8EZSY",
        "outputId": "4831acaa-4e63-43e1-8c3f-05241ab16459"
      },
      "execution_count": 57,
      "outputs": [
        {
          "output_type": "stream",
          "name": "stdout",
          "text": [
            "Overwriting monitor/cameras/zones/Bedroom.java\n"
          ]
        }
      ]
    },
    {
      "cell_type": "code",
      "source": [
        "%%writefile monitor/cameras/zones/Garden.java\n",
        "package monitor.cameras.zones;\n",
        "\n",
        "public class Garden extends Zone{\n",
        "    public Garden() {\n",
        "        //Probabilidades de cada tipo de evento\n",
        "        //{ MOVEMENT_DETECTED, TERMIC_ANOMALY, STRANGE_SHADOW, SOUND_DETECTED}\n",
        "        super(\"Garden\", new int[]{40, 40, 40, 40});\n",
        "    }\n",
        "}\n"
      ],
      "metadata": {
        "colab": {
          "base_uri": "https://localhost:8080/"
        },
        "id": "GkdsnZsEEfD4",
        "outputId": "2895b099-3961-4b58-9e6c-38d75ffa1747"
      },
      "execution_count": 58,
      "outputs": [
        {
          "output_type": "stream",
          "name": "stdout",
          "text": [
            "Overwriting monitor/cameras/zones/Garden.java\n"
          ]
        }
      ]
    },
    {
      "cell_type": "code",
      "source": [
        "%%writefile monitor/cameras/zones/Kitchen.java\n",
        "package monitor.cameras.zones;\n",
        "\n",
        "public class Kitchen extends Zone{\n",
        "    public Kitchen() {\n",
        "        //Probabilidades de cada tipo de evento\n",
        "        //{ MOVEMENT_DETECTED, TERMIC_ANOMALY, STRANGE_SHADOW, SOUND_DETECTED}\n",
        "        super(\"Kitchen\",new int[]{50, 30, 0, 20});\n",
        "    }\n",
        "}\n"
      ],
      "metadata": {
        "colab": {
          "base_uri": "https://localhost:8080/"
        },
        "id": "aZ_DgBL1EqzG",
        "outputId": "f8af958b-5ab5-4d23-ec3b-7abb3c34c7a3"
      },
      "execution_count": 59,
      "outputs": [
        {
          "output_type": "stream",
          "name": "stdout",
          "text": [
            "Overwriting monitor/cameras/zones/Kitchen.java\n"
          ]
        }
      ]
    },
    {
      "cell_type": "code",
      "source": [
        "%%writefile monitor/cameras/zones/Mausoleum.java\n",
        "package monitor.cameras.zones;\n",
        "\n",
        "import monitor.events.Event;\n",
        "\n",
        "public class Mausoleum extends Zone{\n",
        "    public Mausoleum() {\n",
        "        //Probabilidades de cada tipo de evento\n",
        "        //{ MOVEMENT_DETECTED, TERMIC_ANOMALY, STRANGE_SHADOW, SOUND_DETECTED}\n",
        "        super(\"Mausoleum\", new int[]{15, 20, 15, 35});\n",
        "    }\n",
        "}\n"
      ],
      "metadata": {
        "colab": {
          "base_uri": "https://localhost:8080/"
        },
        "id": "FXmpUQGaEw7P",
        "outputId": "c893737e-23f2-4bb3-d7a7-2766f8fd0c55"
      },
      "execution_count": 60,
      "outputs": [
        {
          "output_type": "stream",
          "name": "stdout",
          "text": [
            "Overwriting monitor/cameras/zones/Mausoleum.java\n"
          ]
        }
      ]
    },
    {
      "cell_type": "code",
      "source": [
        "%%writefile monitor/cameras/zones/Zone.java\n",
        "package monitor.cameras.zones;\n",
        "\n",
        "import monitor.events.Event;\n",
        "\n",
        "import java.util.Random;\n",
        "\n",
        "public abstract class Zone {\n",
        "\n",
        "    private final int[] probabilites;\n",
        "\n",
        "    private final String name;\n",
        "\n",
        "    public Zone(String name, int[] probabilites) {\n",
        "        this.name = name;\n",
        "        this.probabilites = probabilites;\n",
        "    }\n",
        "\n",
        "    public Event generateEvent(){\n",
        "        Random random = new Random();\n",
        "        int randomNumber = random.nextInt(100);\n",
        "        int cumulativeProbability = 0;\n",
        "        for (int i = 0; i < probabilites.length; i++) {\n",
        "            cumulativeProbability += probabilites[i];\n",
        "            if (randomNumber < cumulativeProbability) {\n",
        "                return Event.valueOf(i+1);\n",
        "            }\n",
        "        }\n",
        "        return Event.valueOf(0);\n",
        "    }\n",
        "\n",
        "    public String getName() {\n",
        "        return name;\n",
        "    }\n",
        "}\n"
      ],
      "metadata": {
        "colab": {
          "base_uri": "https://localhost:8080/"
        },
        "id": "6ni5IykGE1Pz",
        "outputId": "bf53d261-482d-4372-b5c3-64fbf7f417b7"
      },
      "execution_count": 61,
      "outputs": [
        {
          "output_type": "stream",
          "name": "stdout",
          "text": [
            "Overwriting monitor/cameras/zones/Zone.java\n"
          ]
        }
      ]
    },
    {
      "cell_type": "code",
      "source": [
        "%%writefile monitor/cameras/Camera.java\n",
        "package monitor.cameras;\n",
        "\n",
        "import monitor.events.Event;\n",
        "import monitor.events.EventsCounter;\n",
        "import monitor.cameras.zones.Zone;\n",
        "\n",
        "public class Camera {\n",
        "\n",
        "    private long startTime;\n",
        "    private long lastEvent = 0;\n",
        "    private final Integer frequency;\n",
        "    private final Integer duration;\n",
        "    private EventsCounter eventsCounter;\n",
        "    private final Zone zone;\n",
        "\n",
        "    public Camera(Zone zone, Integer duration, Integer frequency){\n",
        "        this.zone = zone;\n",
        "        this.frequency = frequency;\n",
        "        this.duration = duration;\n",
        "        this.eventsCounter = new EventsCounter();\n",
        "    }\n",
        "\n",
        "\n",
        "    private void check(long aliveTime){\n",
        "        if(( aliveTime - lastEvent) >= frequency){\n",
        "            this.lastEvent = aliveTime;\n",
        "            Event event = this.zone.generateEvent();\n",
        "            System.out.println(\"Evento \"+ event.name()+ \" generado en: \"+ zone.getName());\n",
        "            this.eventsCounter.addEvent(event);\n",
        "        }\n",
        "    }\n",
        "\n",
        "    private void resetCounter(){\n",
        "        this.eventsCounter = new EventsCounter();\n",
        "    }\n",
        "\n",
        "    public void startMonitoring() {\n",
        "        this.startTime = System.currentTimeMillis();\n",
        "        long aliveTime = System.currentTimeMillis() - startTime;\n",
        "        while( aliveTime < duration) {\n",
        "            this.check(aliveTime);\n",
        "            aliveTime = System.currentTimeMillis() - startTime;\n",
        "        }\n",
        "        System.out.println(\"Camara de \" + this.zone.getName() +\" finalizo\");\n",
        "    }\n",
        "\n",
        "    public void printEvents(){\n",
        "        String result = this.zone.getName()+\": \\n\" + eventsCounter.toString();\n",
        "        System.out.println(result);\n",
        "    }\n",
        "}\n"
      ],
      "metadata": {
        "colab": {
          "base_uri": "https://localhost:8080/"
        },
        "id": "75Fp2lieE_hq",
        "outputId": "da0bb635-96d3-48ca-a7c7-9b84ff46c62e"
      },
      "execution_count": 62,
      "outputs": [
        {
          "output_type": "stream",
          "name": "stdout",
          "text": [
            "Overwriting monitor/cameras/Camera.java\n"
          ]
        }
      ]
    },
    {
      "cell_type": "code",
      "source": [
        "%%writefile monitor/events/Event.java\n",
        "package monitor.events;\n",
        "\n",
        "import java.util.Arrays;\n",
        "\n",
        "public enum Event {\n",
        "\n",
        "    NO_ACTIVITY(0),\n",
        "    MOVEMENT_DETECTED(1),\n",
        "    TERMIC_ANOMALY(2),\n",
        "    STRANGE_SHADOW(3),\n",
        "    SOUND_DETECTED(4);\n",
        "\n",
        "    private final int value;\n",
        "\n",
        "    Event(int value){\n",
        "        this.value = value;\n",
        "    }\n",
        "\n",
        "    public static Event valueOf(int value){\n",
        "        return Arrays.stream(values())\n",
        "                .filter(event -> event.value == value)\n",
        "                .findFirst()\n",
        "                .orElse(NO_ACTIVITY);\n",
        "    }\n",
        "\n",
        "}\n"
      ],
      "metadata": {
        "colab": {
          "base_uri": "https://localhost:8080/"
        },
        "id": "FbtpQmjJFMWM",
        "outputId": "91ce6f13-d83a-4dd1-fd88-b25f90ef6161"
      },
      "execution_count": 63,
      "outputs": [
        {
          "output_type": "stream",
          "name": "stdout",
          "text": [
            "Overwriting monitor/events/Event.java\n"
          ]
        }
      ]
    },
    {
      "cell_type": "code",
      "source": [
        "%%writefile monitor/events/EventsCounter.java\n",
        "package monitor.events;\n",
        "\n",
        "import java.util.HashMap;\n",
        "import java.util.Map;\n",
        "\n",
        "public class EventsCounter {\n",
        "\n",
        "    private Map<Event,Integer> eventsMap;\n",
        "\n",
        "    public EventsCounter(){\n",
        "        this.eventsMap = new HashMap<>() {{\n",
        "            put(Event.NO_ACTIVITY, 0);\n",
        "            put(Event.MOVEMENT_DETECTED, 0);\n",
        "            put(Event.TERMIC_ANOMALY, 0);\n",
        "            put(Event.SOUND_DETECTED, 0);\n",
        "            put(Event.STRANGE_SHADOW, 0);\n",
        "        }};\n",
        "    }\n",
        "\n",
        "    public void addEvent(Event event){\n",
        "        eventsMap.replace(event, eventsMap.get(event)+1);\n",
        "    }\n",
        "\n",
        "    public Map<Event,Integer> getEventsMap(){\n",
        "        return this.eventsMap;\n",
        "    }\n",
        "\n",
        "    @Override\n",
        "    public String toString() {\n",
        "        String string = \"\";\n",
        "        for (Event event : eventsMap.keySet() ){\n",
        "            string = string.concat(eventsMap.get(event)+\" \"+event.toString()+\"\\n\");\n",
        "        }\n",
        "        return string;\n",
        "    }\n",
        "}\n"
      ],
      "metadata": {
        "colab": {
          "base_uri": "https://localhost:8080/"
        },
        "id": "OyXfyAv5FTU9",
        "outputId": "61c9435c-e429-4db8-fabf-51565264405a"
      },
      "execution_count": 64,
      "outputs": [
        {
          "output_type": "stream",
          "name": "stdout",
          "text": [
            "Overwriting monitor/events/EventsCounter.java\n"
          ]
        }
      ]
    },
    {
      "cell_type": "code",
      "source": [
        "%%writefile monitor/MansionMonitor.java\n",
        "package monitor;\n",
        "\n",
        "import java.io.IOException;\n",
        "import java.util.ArrayList;\n",
        "import java.util.List;\n",
        "\n",
        "public class MansionMonitor {\n",
        "\n",
        "    private static final String[] rooms = {\"AtticCamera\",\"BasementCamera\",\"BedroomCamera\",\"GardenCamera\",\"KitchenCamera\",\"MausoleumCamera\"};\n",
        "\n",
        "    public static void main(String[] args) throws IOException, InterruptedException {\n",
        "        System.out.println(\"Iniciando MansionMonitor\");\n",
        "        if(args.length != 2) {\n",
        "            System.out.println(\"Error en parametros\");\n",
        "            return;\n",
        "        }\n",
        "        try{\n",
        "            Integer.parseInt(args[0],10);\n",
        "        }catch (NumberFormatException error){\n",
        "            System.out.println(\"Duracion invalida\");\n",
        "            return;\n",
        "        }\n",
        "\n",
        "        try{\n",
        "            Integer.parseInt(args[1],10);\n",
        "        }catch (NumberFormatException error){\n",
        "            System.out.println(\"Frecuencia invalida\");\n",
        "            return;\n",
        "        }\n",
        "        List<Process> processes = new ArrayList<>();\n",
        "\n",
        "        //Iniciamos un proceso por cada habitacion\n",
        "        for (String room : rooms){\n",
        "            processes.add(startRoomProcess(room,args[0], args[1]));\n",
        "        }\n",
        "\n",
        "        //Esperamos que todos los procesos terminen\n",
        "        for (Process process : processes){\n",
        "            process.waitFor();\n",
        "        }\n",
        "\n",
        "    }\n",
        "\n",
        "    public static Process startRoomProcess(String room,String duration,String frequency) throws IOException {\n",
        "        String classpath = System.getProperty(\"java.class.path\");\n",
        "        ProcessBuilder pb = new ProcessBuilder(\"java\", \"-cp\", classpath, \"monitor/cameras/rooms/\"+room,duration, frequency);\n",
        "        pb.redirectErrorStream(true);\n",
        "        pb.inheritIO();\n",
        "        return pb.start();\n",
        "    }\n",
        "}\n"
      ],
      "metadata": {
        "colab": {
          "base_uri": "https://localhost:8080/"
        },
        "id": "w7GJAR3lFXr7",
        "outputId": "ca09b319-b7e0-436b-b2a8-18f50b5e0e33"
      },
      "execution_count": 65,
      "outputs": [
        {
          "output_type": "stream",
          "name": "stdout",
          "text": [
            "Overwriting monitor/MansionMonitor.java\n"
          ]
        }
      ]
    },
    {
      "cell_type": "code",
      "source": [
        "!find monitor -name \"*.java\" > sources.txt\n",
        "!javac @sources.txt"
      ],
      "metadata": {
        "id": "LF3_tZrSF4am"
      },
      "execution_count": 66,
      "outputs": []
    },
    {
      "cell_type": "code",
      "source": [
        "!java monitor/MansionMonitor 5000 500"
      ],
      "metadata": {
        "colab": {
          "base_uri": "https://localhost:8080/"
        },
        "id": "8c_F1jucCNqw",
        "outputId": "30ccce03-01a8-4858-b8af-54eca0826efd"
      },
      "execution_count": 67,
      "outputs": [
        {
          "output_type": "stream",
          "name": "stdout",
          "text": [
            "Iniciando MansionMonitor\n",
            "Evento TERMIC_ANOMALY generado en: Bedroom\n",
            "Evento SOUND_DETECTED generado en: Attic\n",
            "Evento SOUND_DETECTED generado en: Attic\n",
            "Evento TERMIC_ANOMALY generado en: Mausoleum\n",
            "Evento STRANGE_SHADOW generado en: Bedroom\n",
            "Evento MOVEMENT_DETECTED generado en: Garden\n",
            "Evento SOUND_DETECTED generado en: Mausoleum\n",
            "Evento SOUND_DETECTED generado en: Basement\n",
            "Evento STRANGE_SHADOW generado en: Basement\n",
            "Evento MOVEMENT_DETECTED generado en: Kitchen\n",
            "Evento STRANGE_SHADOW generado en: Garden\n",
            "Evento MOVEMENT_DETECTED generado en: Kitchen\n",
            "Evento STRANGE_SHADOW generado en: Attic\n",
            "Evento TERMIC_ANOMALY generado en: Bedroom\n",
            "Evento NO_ACTIVITY generado en: Mausoleum\n",
            "Evento NO_ACTIVITY generado en: Basement\n",
            "Evento MOVEMENT_DETECTED generado en: Garden\n",
            "Evento MOVEMENT_DETECTED generado en: Kitchen\n",
            "Evento STRANGE_SHADOW generado en: Attic\n",
            "Evento MOVEMENT_DETECTED generado en: Bedroom\n",
            "Evento NO_ACTIVITY generado en: Mausoleum\n",
            "Evento TERMIC_ANOMALY generado en: Basement\n",
            "Evento STRANGE_SHADOW generado en: Garden\n",
            "Evento TERMIC_ANOMALY generado en: Kitchen\n",
            "Evento SOUND_DETECTED generado en: Attic\n",
            "Evento STRANGE_SHADOW generado en: Bedroom\n",
            "Evento SOUND_DETECTED generado en: Mausoleum\n",
            "Evento SOUND_DETECTED generado en: Basement\n",
            "Evento TERMIC_ANOMALY generado en: Garden\n",
            "Evento MOVEMENT_DETECTED generado en: Kitchen\n",
            "Evento MOVEMENT_DETECTED generado en: Attic\n",
            "Evento TERMIC_ANOMALY generado en: Bedroom\n",
            "Evento MOVEMENT_DETECTED generado en: Mausoleum\n",
            "Evento SOUND_DETECTED generado en: Basement\n",
            "Evento TERMIC_ANOMALY generado en: Garden\n",
            "Evento SOUND_DETECTED generado en: Kitchen\n",
            "Evento MOVEMENT_DETECTED generado en: Attic\n",
            "Evento TERMIC_ANOMALY generado en: Bedroom\n",
            "Evento TERMIC_ANOMALY generado en: Mausoleum\n",
            "Evento NO_ACTIVITY generado en: Basement\n",
            "Evento TERMIC_ANOMALY generado en: Garden\n",
            "Evento TERMIC_ANOMALY generado en: Kitchen\n",
            "Evento SOUND_DETECTED generado en: Attic\n",
            "Evento STRANGE_SHADOW generado en: Bedroom\n",
            "Evento TERMIC_ANOMALY generado en: Mausoleum\n",
            "Evento SOUND_DETECTED generado en: Basement\n",
            "Evento TERMIC_ANOMALY generado en: Garden\n",
            "Evento TERMIC_ANOMALY generado en: Kitchen\n",
            "Evento STRANGE_SHADOW generado en: Attic\n",
            "Evento TERMIC_ANOMALY generado en: Bedroom\n",
            "Evento SOUND_DETECTED generado en: Mausoleum\n",
            "Evento STRANGE_SHADOW generado en: Basement\n",
            "Evento MOVEMENT_DETECTED generado en: Garden\n",
            "Evento SOUND_DETECTED generado en: Kitchen\n",
            "Camara de Attic finalizo\n",
            "Camara de Mausoleum finalizo\n",
            "Camara de Bedroom finalizo\n",
            "Camara de Basement finalizo\n",
            "Attic: \n",
            "0 TERMIC_ANOMALY\n",
            "4 SOUND_DETECTED\n",
            "0 NO_ACTIVITY\n",
            "2 MOVEMENT_DETECTED\n",
            "3 STRANGE_SHADOW\n",
            "\n",
            "Bedroom: \n",
            "5 TERMIC_ANOMALY\n",
            "0 SOUND_DETECTED\n",
            "0 NO_ACTIVITY\n",
            "1 MOVEMENT_DETECTED\n",
            "3 STRANGE_SHADOW\n",
            "\n",
            "Camara de Garden finalizo\n",
            "Camara de Kitchen finalizo\n",
            "Mausoleum: \n",
            "3 TERMIC_ANOMALY\n",
            "3 SOUND_DETECTED\n",
            "2 NO_ACTIVITY\n",
            "1 MOVEMENT_DETECTED\n",
            "0 STRANGE_SHADOW\n",
            "\n",
            "Basement: \n",
            "1 TERMIC_ANOMALY\n",
            "4 SOUND_DETECTED\n",
            "2 NO_ACTIVITY\n",
            "0 MOVEMENT_DETECTED\n",
            "2 STRANGE_SHADOW\n",
            "\n",
            "Garden: \n",
            "4 TERMIC_ANOMALY\n",
            "0 SOUND_DETECTED\n",
            "0 NO_ACTIVITY\n",
            "3 MOVEMENT_DETECTED\n",
            "2 STRANGE_SHADOW\n",
            "\n",
            "Kitchen: \n",
            "3 TERMIC_ANOMALY\n",
            "2 SOUND_DETECTED\n",
            "0 NO_ACTIVITY\n",
            "4 MOVEMENT_DETECTED\n",
            "0 STRANGE_SHADOW\n",
            "\n"
          ]
        }
      ]
    }
  ]
}